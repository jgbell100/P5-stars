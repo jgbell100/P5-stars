{
  "nbformat": 4,
  "nbformat_minor": 0,
  "metadata": {
    "colab": {
      "name": "lesson4_data_manipulation_of_columns.ipynb",
      "provenance": [],
      "collapsed_sections": [
        "BKwhwLftUWpu",
        "5-h7G2hpUZ2I",
        "P6MLX27pVv26",
        "YEHc4-LPaULe",
        "fIVlrDDCfUd8",
        "yyUMg9DSgbKh",
        "CODSBKlnysQ9",
        "8UjwmCwa8o9H",
        "N890o624ea0_",
        "-IKpNdzn1Q-p"
      ],
      "toc_visible": true,
      "include_colab_link": true
    },
    "kernelspec": {
      "name": "python3",
      "display_name": "Python 3"
    },
    "language_info": {
      "name": "python"
    }
  },
  "cells": [
    {
      "cell_type": "markdown",
      "metadata": {
        "id": "view-in-github",
        "colab_type": "text"
      },
      "source": [
        "<a href=\"https://colab.research.google.com/github/jgbell100/P5-stars/blob/master/lesson4_data_manipulation_of_columns.ipynb\" target=\"_parent\"><img src=\"https://colab.research.google.com/assets/colab-badge.svg\" alt=\"Open In Colab\"/></a>"
      ]
    },
    {
      "cell_type": "markdown",
      "metadata": {
        "id": "zXaE4JjlWvTu"
      },
      "source": [
        "# Data Manipulation - Manipulating Columns in a Dataset\n",
        "\n",
        "\n",
        "This is a chance for you to try manipulating datasets columns using Python. We'll be using the same datasets that you saw in the slides, so you can always refer back to there too.\n",
        "\n",
        "In these exercises you will practice:\n",
        "\n",
        "* *selecting* the columns you want, and\n",
        "* *reordering* the columns  "
      ]
    },
    {
      "cell_type": "markdown",
      "metadata": {
        "id": "7vn9TkF7xEJY"
      },
      "source": [
        "## Set up"
      ]
    },
    {
      "cell_type": "markdown",
      "metadata": {
        "id": "R4ZfjRYHP1S4"
      },
      "source": [
        "To get set up, load the Python packages and datasets you'll be using into this notebook. Run the code cells in the **Load the Python packages that are needed** and **Upload the datasets** sections below to do this."
      ]
    },
    {
      "cell_type": "markdown",
      "metadata": {
        "id": "ymOYCiJDw4kS"
      },
      "source": [
        "### Load the Python packages that are needed"
      ]
    },
    {
      "cell_type": "code",
      "metadata": {
        "id": "UufSFjtBWtTc"
      },
      "source": [
        "# pandas is the most important package for data manipulation\n",
        "import pandas as pd\n",
        "\n",
        "# these packages will be used to upload datasets\n",
        "from os import path\n",
        "from google.colab import files"
      ],
      "execution_count": null,
      "outputs": []
    },
    {
      "cell_type": "code",
      "metadata": {
        "id": "46spyuNlZFue"
      },
      "source": [
        "input_file_path = \"./\""
      ],
      "execution_count": null,
      "outputs": []
    },
    {
      "cell_type": "markdown",
      "metadata": {
        "id": "p8cjUMMyxHwg"
      },
      "source": [
        "### Upload the datasets\n",
        "\n",
        "Upload the following datasets from [your computer]:\n",
        "\n",
        "* `lochs.csv` (the volume, length and maximum depth of some Scottish lochs)\n",
        "* `cities.csv` (the temperature and time of day when dawn and dusk is, for some world-wide cities) \n",
        "* `clothes.csv` (the type, size, price and colour of clothes)\n",
        "* `used_cars.csv` (the make, model, year of registration, price and approval rating of some used cars)\n",
        "\n",
        "by running the code cell below.\n",
        "\n",
        "You'll be prompted to chose the files you want to upload. Choose `lochs.csv` `cities.csv`, `clothes.csv` and `used_cars.csv`.\n",
        "\n",
        "____________________\n",
        "You can select all of the files to upload at once.\n",
        "\n",
        "On a Mac: *hold down the command key and then click all the files you want.*\n",
        "\n",
        "On Windows: *click the first file, hold down the Ctrl key and then click all the files you want.*\n",
        "____________________\n",
        "\n"
      ]
    },
    {
      "cell_type": "code",
      "metadata": {
        "id": "WBJvv-35Y3K9"
      },
      "source": [
        "# [This is a colab-specific method for uploading datasets.]\n",
        "# [A better method needs to be found to enable learners to load the datasets.]\n",
        "\n",
        "uploaded = files.upload()\n",
        "\n",
        "for fn in uploaded.keys():\n",
        "  print('User uploaded file \"{name}\" with length {length} bytes'.format(\n",
        "      name=fn, length=len(uploaded[fn])))"
      ],
      "execution_count": null,
      "outputs": []
    },
    {
      "cell_type": "markdown",
      "metadata": {
        "id": "8tW_oz1QL07B"
      },
      "source": [
        "Read each of the datasets from csv files into a pandas dataframe."
      ]
    },
    {
      "cell_type": "code",
      "metadata": {
        "id": "0y2a2xntY9e8"
      },
      "source": [
        "lochs = pd.read_csv(path.join(input_file_path, \"lochs.csv\"))\n",
        "cities = pd.read_csv(path.join(input_file_path, \"cities.csv\"))\n",
        "clothes = pd.read_csv(path.join(input_file_path, \"clothes.csv\"))\n",
        "used_cars = pd.read_csv(path.join(input_file_path, \"used_cars.csv\"))"
      ],
      "execution_count": null,
      "outputs": []
    },
    {
      "cell_type": "markdown",
      "metadata": {
        "id": "1M9rvH03L-yp"
      },
      "source": [
        "Have a look at each of the datasets to make sure they contain what you expect."
      ]
    },
    {
      "cell_type": "code",
      "metadata": {
        "id": "yUFwlSdzKKl8"
      },
      "source": [
        "lochs"
      ],
      "execution_count": null,
      "outputs": []
    },
    {
      "cell_type": "code",
      "metadata": {
        "id": "iHYjyb95Lt6Z"
      },
      "source": [
        "cities"
      ],
      "execution_count": null,
      "outputs": []
    },
    {
      "cell_type": "code",
      "metadata": {
        "id": "xE2VKTYUyEXz"
      },
      "source": [
        "clothes"
      ],
      "execution_count": null,
      "outputs": []
    },
    {
      "cell_type": "code",
      "metadata": {
        "id": "Oq0Y55SV8aJi"
      },
      "source": [
        "used_cars"
      ],
      "execution_count": null,
      "outputs": []
    },
    {
      "cell_type": "markdown",
      "metadata": {
        "id": "7H81uIJ9Qa1p"
      },
      "source": [
        "If everything looks okay, we're ready to do some data manipulation!\n",
        "\n",
        "(If not, try uploading the csv files again)."
      ]
    },
    {
      "cell_type": "markdown",
      "metadata": {
        "id": "A4uBG7u8xNca"
      },
      "source": [
        "## Manipluating Columns"
      ]
    },
    {
      "cell_type": "markdown",
      "metadata": {
        "id": "aIK6o3q6xSPG"
      },
      "source": [
        "### Select columns \n",
        "\n",
        "You're doing some analysis of Scottish lochs. You're only interested in the name of the `loch` and its `length`.\n",
        "\n",
        "From the `lochs` dataset, select the `loch` and `length` columns and make a new dataframe, `lochs_small` from these columns.\n",
        "\n",
        "Display this new dataframe (so that you can see what it looks like)."
      ]
    },
    {
      "cell_type": "markdown",
      "metadata": {
        "id": "BKwhwLftUWpu"
      },
      "source": [
        "#### Example"
      ]
    },
    {
      "cell_type": "code",
      "metadata": {
        "id": "K5tErXd-xzw2",
        "cellView": "form"
      },
      "source": [
        "#@title\n",
        "# The next line does the select\n",
        "lochs_small = lochs[['loch', 'length']]\n",
        "\n",
        "# The next line displays the new dataframe \n",
        "lochs_small"
      ],
      "execution_count": null,
      "outputs": []
    },
    {
      "cell_type": "markdown",
      "metadata": {
        "id": "5-h7G2hpUZ2I"
      },
      "source": [
        "#### Task 1\n",
        "\n",
        "1. Select the name of the `loch`, its `volume` and its maximum depth (`max_depth`) and save it to a new dataframe.\n",
        "\n",
        "2. Display the new dataframe.\n",
        "\n"
      ]
    },
    {
      "cell_type": "code",
      "metadata": {
        "id": "bYFgF-PNVcy3"
      },
      "source": [
        "# select the columns\n",
        "\n",
        "\n",
        "# display the new dataframe \n"
      ],
      "execution_count": null,
      "outputs": []
    },
    {
      "cell_type": "markdown",
      "metadata": {
        "id": "P6MLX27pVv26"
      },
      "source": [
        "#### Extension Task\n",
        "\n",
        "1. Choose any columns from the `cities` dataframe.\n",
        "2. Select them and save the new columns to a new dataframe\n",
        "2. Display the new dataframe.\n"
      ]
    },
    {
      "cell_type": "code",
      "metadata": {
        "id": "NNTq7VR5gnka"
      },
      "source": [
        "# select the columns\n",
        "\n",
        "\n",
        "# display the new dataframe \n"
      ],
      "execution_count": null,
      "outputs": []
    },
    {
      "cell_type": "markdown",
      "metadata": {
        "id": "wvSuqJTIxcmq"
      },
      "source": [
        "### Reorder columns\n",
        "\n",
        "You've found a dataset on cities which is a little hard to read because of the way the columns are ordered. You decide to re-order them, to make the data easier to read."
      ]
    },
    {
      "cell_type": "markdown",
      "metadata": {
        "id": "YEHc4-LPaULe"
      },
      "source": [
        "#### Example"
      ]
    },
    {
      "cell_type": "markdown",
      "metadata": {
        "id": "J2rXBy4paZIn"
      },
      "source": [
        "Reorder the columns in the `cities` dataset so that they are in the order, `location`, `temperature`, `dawn`, `dusk`. \n",
        "\n",
        "Save the new dataframe that has been created by reordering.\n",
        "\n",
        "Display the new dataframe."
      ]
    },
    {
      "cell_type": "code",
      "metadata": {
        "id": "uis98vN8eBox",
        "collapsed": true
      },
      "source": [
        "# reorder the columns\n",
        "cities_new = cities[['location', 'temperature', 'dawn', 'dusk']]\n",
        "\n",
        "# display the new dataframe\n",
        "cities_new"
      ],
      "execution_count": null,
      "outputs": []
    },
    {
      "cell_type": "markdown",
      "metadata": {
        "id": "2V-xvqVkfQFk"
      },
      "source": [
        "That's better!\n",
        "\n",
        "(Did you notice that *selecting* and *reordering* are really similar?)"
      ]
    },
    {
      "cell_type": "markdown",
      "metadata": {
        "id": "fIVlrDDCfUd8"
      },
      "source": [
        "#### Task 1\n",
        "\n",
        "Another sensible way to reorder the columns so that they're easier to understand would be `location`, `dawn`, `dusk`, `temperature`.  \n",
        "\n",
        "1. Reorder the columns in the `cities` dataset so that they are in this order \n",
        "2. Save the new dataframe that has been created by reordering.\n",
        "3. Display the new dataframe."
      ]
    },
    {
      "cell_type": "code",
      "metadata": {
        "id": "g3j__pwxgWE7"
      },
      "source": [
        "# reorder the columns\n",
        "\n",
        "\n",
        "# display the new dataframe \n"
      ],
      "execution_count": null,
      "outputs": []
    },
    {
      "cell_type": "markdown",
      "metadata": {
        "id": "yyUMg9DSgbKh"
      },
      "source": [
        "#### Extension Task"
      ]
    },
    {
      "cell_type": "markdown",
      "metadata": {
        "id": "67M6x6BtghCV"
      },
      "source": [
        "1. Reorder the columns from the `lochs` dataframe.\n",
        "2. Save the columns to a new dataframe.\n",
        "2. Display the new dataframe.\n"
      ]
    },
    {
      "cell_type": "code",
      "metadata": {
        "id": "FB1t5bxtgqx_"
      },
      "source": [
        "# reorder the columns\n",
        "\n",
        "\n",
        "# display the new dataframe \n"
      ],
      "execution_count": null,
      "outputs": []
    },
    {
      "cell_type": "markdown",
      "metadata": {
        "id": "CwVvI18vyKLr"
      },
      "source": [
        "## Reformat Columns\n",
        "\n",
        "Sometimes we may wish to change how the values in a column in data are *displayed* without changing the *actual* values. "
      ]
    },
    {
      "cell_type": "markdown",
      "metadata": {
        "id": "CODSBKlnysQ9"
      },
      "source": [
        "#### Example 1 \n",
        "\n",
        "Take the `price_£` column in the `clothes` dataframe, for example. Run the following code cell to see how the values in this column are displayed."
      ]
    },
    {
      "cell_type": "code",
      "metadata": {
        "id": "_WDqvlFMxIIP"
      },
      "source": [
        "clothes"
      ],
      "execution_count": null,
      "outputs": []
    },
    {
      "cell_type": "markdown",
      "metadata": {
        "id": "o1i-pOWGy89o"
      },
      "source": [
        "<a name=\"format-dictionary\"></a>\n",
        "You can see that they are displayed as floating point numbers. What if we wanted to display them with a '£' symbol e.g. **£15.99** rather than **15.99**? How could we do that?\n",
        "\n",
        "We can use the pandas `format()` function. We pass a Python dictionary to `format()`. The dictionary tells `format()` how to format the columns you wish to format. It has column names as keys, and the format to use as values. This lets us specify how we'd like each column to be formatted.\n",
        "\n",
        "In the examples below, we will keep it simple and only format a single column at a time.\n",
        "\n",
        "Here's an example of a dictionary we can use to display values in the `price_£` column so that they start with a '£' and are shown with 2 decimal places.\n",
        "\n",
        "```python\n",
        "pound_to_2_dp_formatter = {\n",
        "    'price_£': '£{:,.2f}'\n",
        "}\n",
        "```\n",
        "\n",
        "The format '£{:,.2f}' is a string. \n",
        "\n",
        "Run the next code cell to create the format dictionary."
      ]
    },
    {
      "cell_type": "code",
      "metadata": {
        "id": "rpwgRRzkzVos"
      },
      "source": [
        "\n",
        "# This is the dictionary\n",
        "pound_to_2_dp_formatter = {\n",
        "    # price_£ is the column we want to format\n",
        "    # and £{:,.2f} is the format we want to use for it.\n",
        "    # This format means \"Put a £ symbol at the start and display 2 decimal places after the decimal point.\"\n",
        "    'price_£': '£{:,.2f}'\n",
        "}"
      ],
      "execution_count": null,
      "outputs": []
    },
    {
      "cell_type": "markdown",
      "metadata": {
        "id": "weWwEGn82WXT"
      },
      "source": [
        "Now we can use this dictionary to change how the values in the `price_£` column are displayed. \n",
        "\n",
        "Run the next code cell to see."
      ]
    },
    {
      "cell_type": "code",
      "metadata": {
        "id": "nTppkCHV2Ekx"
      },
      "source": [
        "# format the dataframe 'clothes' using the format dictionary you've created\n",
        "clothes.style.format(pound_to_2_dp_formatter)"
      ],
      "execution_count": null,
      "outputs": []
    },
    {
      "cell_type": "markdown",
      "metadata": {
        "id": "ODzYEQm12xPo"
      },
      "source": [
        "Let's make sure that it's only how the column `price_£` is *displayed* that has changed, and not the *actual* values.\n",
        "\n",
        "Run the next code cell to check."
      ]
    },
    {
      "cell_type": "code",
      "metadata": {
        "id": "ZrWgQlQFzslq"
      },
      "source": [
        "clothes"
      ],
      "execution_count": null,
      "outputs": []
    },
    {
      "cell_type": "markdown",
      "metadata": {
        "id": "1gdlwkBI3Zr9"
      },
      "source": [
        "Are the prices still floating point numbers with no '£' symbol? Great!"
      ]
    },
    {
      "cell_type": "markdown",
      "metadata": {
        "id": "8UjwmCwa8o9H"
      },
      "source": [
        "#### Task 1\n",
        "\n",
        "Try reformatting the values in a column yourself. In the `used_cars` dataset, display the price of the car in £.\n",
        "\n",
        "If you need some help have a look at the hints below."
      ]
    },
    {
      "cell_type": "markdown",
      "metadata": {
        "id": "KqH7RtJv9DCt"
      },
      "source": [
        "##### Hint"
      ]
    },
    {
      "cell_type": "code",
      "metadata": {
        "cellView": "form",
        "id": "qp6hjuYV9FnN"
      },
      "source": [
        "#@title\n",
        "# which column do you need to reformat?"
      ],
      "execution_count": null,
      "outputs": []
    },
    {
      "cell_type": "code",
      "metadata": {
        "cellView": "form",
        "id": "BS6HVqbJ9XZ-"
      },
      "source": [
        "#@title\n",
        "# Use the format dictionary 'format_dictionary' that was created before"
      ],
      "execution_count": null,
      "outputs": []
    },
    {
      "cell_type": "code",
      "metadata": {
        "id": "Sj-yGXtb8rg4"
      },
      "source": [
        "# Write your code here"
      ],
      "execution_count": null,
      "outputs": []
    },
    {
      "cell_type": "markdown",
      "metadata": {
        "id": "N890o624ea0_"
      },
      "source": [
        "#### Task 2\n",
        "\n",
        "In the `used_cars` dataset, each car has an `approval_rating`. This is the percentage of customers who bought this car who would recommend it to others. \n",
        "\n",
        "Run the next code cell to have a look.\n",
        "\n",
        "\n",
        "\n",
        "\n",
        "\n"
      ]
    },
    {
      "cell_type": "code",
      "metadata": {
        "id": "q7V3qMIMzAil"
      },
      "source": [
        "used_cars"
      ],
      "execution_count": null,
      "outputs": []
    },
    {
      "cell_type": "markdown",
      "metadata": {
        "id": "dYEtNmpVzCeo"
      },
      "source": [
        "However, when you look at the dataframe, it's not obvious that the values in the `approval_rating` column are percentages, is it? \n",
        "\n",
        "Make this clearer by displaying these values with a '%' symbol e.g. 62%.\n",
        "\n",
        "The format string you will need to do this is `'{:,.0f}%'` (remember to include the single quotes).\n",
        "\n",
        "**Step 1**\n",
        "\n",
        "Create a format dictionary like the one we created [here](#format-dictionary).\n",
        "\n",
        "Call it `percentage_formatter`.\n"
      ]
    },
    {
      "cell_type": "code",
      "metadata": {
        "id": "VKROeMx-xu_W"
      },
      "source": [
        "# write your code here to create the format dictionary here\n"
      ],
      "execution_count": null,
      "outputs": []
    },
    {
      "cell_type": "markdown",
      "metadata": {
        "id": "ioh90W7jx0Vp"
      },
      "source": [
        "##### Hint"
      ]
    },
    {
      "cell_type": "code",
      "metadata": {
        "cellView": "form",
        "id": "gMW-kCIFx44Z"
      },
      "source": [
        "#@title\n",
        "# What is the name of the column you want to format?"
      ],
      "execution_count": null,
      "outputs": []
    },
    {
      "cell_type": "markdown",
      "metadata": {
        "id": "bVTjg6jKwl8c"
      },
      "source": [
        "**Step 2**\n",
        "\n",
        "Use the format dictionary to format the column for the approval rating."
      ]
    },
    {
      "cell_type": "markdown",
      "metadata": {
        "id": "G1Sqpa64zWUq"
      },
      "source": [
        "##### Hint 1"
      ]
    },
    {
      "cell_type": "code",
      "metadata": {
        "cellView": "form",
        "id": "n4uANRkxdxC1"
      },
      "source": [
        "#@title\n",
        "# your format dictionary should look like this\n",
        "\n",
        "percentage_formatter = {\n",
        "    'approval_rating': '{:,.0f}%'\n",
        "}"
      ],
      "execution_count": null,
      "outputs": []
    },
    {
      "cell_type": "markdown",
      "metadata": {
        "id": "wc8k5i_6ziX0"
      },
      "source": [
        "##### Hint 2"
      ]
    },
    {
      "cell_type": "code",
      "metadata": {
        "cellView": "form",
        "id": "bYLkDu_6fazu"
      },
      "source": [
        "#@title\n",
        "# pass your format dictionary to the used_cars.style.format() dictionary"
      ],
      "execution_count": null,
      "outputs": []
    },
    {
      "cell_type": "code",
      "metadata": {
        "id": "rNFmgUgAf5mo"
      },
      "source": [
        "# write your code here to format the column for the approval rating with a % symbol.\n"
      ],
      "execution_count": null,
      "outputs": []
    },
    {
      "cell_type": "markdown",
      "metadata": {
        "id": "-IKpNdzn1Q-p"
      },
      "source": [
        "#### Extension Task\n",
        "\n",
        "In the `lochs` dataframe the `volume` column holds the volume of water in each of the lochs (in $m^{3}$).\n",
        "\n",
        "Run the next cell to have a look. "
      ]
    },
    {
      "cell_type": "code",
      "metadata": {
        "id": "v0Mxq_r62OXs"
      },
      "source": [
        "lochs"
      ],
      "execution_count": null,
      "outputs": []
    },
    {
      "cell_type": "markdown",
      "metadata": {
        "id": "hwUzE8nr2iKf"
      },
      "source": [
        "As you can see, the `volume` measurements are accurate to 5 decimal places. That's very accurate, and great for scientific research, but you'd like to share your results with the members of a stand up paddle board club, who might just get a bit confused by such large numbers. \n",
        "\n",
        "You decide to display the volume of each loch as accurate to 1 decimal place. \n",
        "\n",
        "The format string you will need for this is `'{:.1f}'` (remember to include the single quotes). "
      ]
    },
    {
      "cell_type": "code",
      "metadata": {
        "id": "LOTBoyPC3-eg"
      },
      "source": [
        "# write your code here\n"
      ],
      "execution_count": null,
      "outputs": []
    },
    {
      "cell_type": "markdown",
      "metadata": {
        "id": "mFTaTOsl46Qp"
      },
      "source": [
        "(Did you notice that the `format()` function also takes care of *rounding* too?)"
      ]
    }
  ]
}