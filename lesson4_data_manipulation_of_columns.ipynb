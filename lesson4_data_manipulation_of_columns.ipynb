{
  "nbformat": 4,
  "nbformat_minor": 0,
  "metadata": {
    "colab": {
      "name": "lesson4_data_manipulation_of_columns.ipynb",
      "provenance": [],
      "collapsed_sections": [
        "BKwhwLftUWpu",
        "5-h7G2hpUZ2I",
        "P6MLX27pVv26",
        "YEHc4-LPaULe",
        "fIVlrDDCfUd8",
        "yyUMg9DSgbKh",
        "CODSBKlnysQ9",
        "8UjwmCwa8o9H",
        "N890o624ea0_",
        "-IKpNdzn1Q-p"
      ],
      "toc_visible": true,
      "include_colab_link": true
    },
    "kernelspec": {
      "name": "python3",
      "display_name": "Python 3"
    },
    "language_info": {
      "name": "python"
    }
  },
  "cells": [
    {
      "cell_type": "markdown",
      "metadata": {
        "id": "view-in-github",
        "colab_type": "text"
      },
      "source": [
        "<a href=\"https://colab.research.google.com/github/jgbell100/P5-stars/blob/master/lesson4_data_manipulation_of_columns.ipynb\" target=\"_parent\"><img src=\"https://colab.research.google.com/assets/colab-badge.svg\" alt=\"Open In Colab\"/></a>"
      ]
    },
    {
      "cell_type": "markdown",
      "metadata": {
        "id": "zXaE4JjlWvTu"
      },
      "source": [
        "# Data Manipulation - Manipulating Columns in a Dataset\n",
        "\n",
        "\n",
        "This is a chance for you to try manipulating datasets columns using Python. We'll be using the same datasets that you saw in the slides, so you can always refer back to there too.\n",
        "\n",
        "In these exercises you will practice:\n",
        "\n",
        "* *selecting* the columns you want, and\n",
        "* *reordering* the columns  "
      ]
    },
    {
      "cell_type": "markdown",
      "metadata": {
        "id": "7vn9TkF7xEJY"
      },
      "source": [
        "## Set up"
      ]
    },
    {
      "cell_type": "markdown",
      "metadata": {
        "id": "R4ZfjRYHP1S4"
      },
      "source": [
        "To get set up, load the Python packages and datasets you'll be using into this notebook. Run the code cells in the **Load the Python packages that are needed** and **Upload the datasets** sections below to do this."
      ]
    },
    {
      "cell_type": "markdown",
      "metadata": {
        "id": "ymOYCiJDw4kS"
      },
      "source": [
        "### Load the Python packages that are needed"
      ]
    },
    {
      "cell_type": "code",
      "metadata": {
        "id": "UufSFjtBWtTc"
      },
      "source": [
        "# pandas is the most important package for data manipulation\n",
        "import pandas as pd\n",
        "\n",
        "# these packages will be used to upload datasets\n",
        "from os import path\n",
        "from google.colab import files"
      ],
      "execution_count": 30,
      "outputs": []
    },
    {
      "cell_type": "code",
      "metadata": {
        "id": "46spyuNlZFue"
      },
      "source": [
        "input_file_path = \"./\""
      ],
      "execution_count": 31,
      "outputs": []
    },
    {
      "cell_type": "markdown",
      "metadata": {
        "id": "p8cjUMMyxHwg"
      },
      "source": [
        "### Upload the datasets\n",
        "\n",
        "Upload the following datasets from [your computer]:\n",
        "\n",
        "* `lochs.csv` (the volume, length and maximum depth of some Scottish lochs)\n",
        "* `cities.csv` (the temperature and time of day when dawn and dusk is, for some world-wide cities) \n",
        "* `clothes.csv` (the type, size, price and colour of clothes)\n",
        "* `used_cars.csv` (the make, model, year of registration, price and approval rating of some used cars)\n",
        "\n",
        "by running the code cell below.\n",
        "\n",
        "You'll be prompted to chose the files you want to upload. Choose `lochs.csv` `cities.csv`, `clothes.csv` and `used_cars.csv`.\n",
        "\n",
        "____________________\n",
        "You can select all of the files to upload at once.\n",
        "\n",
        "On a Mac: *hold down the command key and then click all the files you want.*\n",
        "\n",
        "On Windows: *click the first file, hold down the Ctrl key and then click all the files you want.*\n",
        "____________________\n",
        "\n"
      ]
    },
    {
      "cell_type": "code",
      "metadata": {
        "id": "WBJvv-35Y3K9",
        "colab": {
          "resources": {
            "http://localhost:8080/nbextensions/google.colab/files.js": {
              "data": "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",
              "ok": true,
              "headers": [
                [
                  "content-type",
                  "application/javascript"
                ]
              ],
              "status": 200,
              "status_text": ""
            }
          },
          "base_uri": "https://localhost:8080/",
          "height": 497
        },
        "outputId": "e1465b74-164f-48f1-af72-96b3b0aefca1"
      },
      "source": [
        "# [This is a colab-specific method for uploading datasets.]\n",
        "# [A better method needs to be found to enable learners to load the datasets.]\n",
        "\n",
        "uploaded = files.upload()\n",
        "\n",
        "for fn in uploaded.keys():\n",
        "  print('User uploaded file \"{name}\" with length {length} bytes'.format(\n",
        "      name=fn, length=len(uploaded[fn])))"
      ],
      "execution_count": 3,
      "outputs": [
        {
          "output_type": "display_data",
          "data": {
            "text/html": [
              "\n",
              "     <input type=\"file\" id=\"files-8431a3e2-f89d-4658-b4d4-7f6d1d8c6ddd\" name=\"files[]\" multiple disabled\n",
              "        style=\"border:none\" />\n",
              "     <output id=\"result-8431a3e2-f89d-4658-b4d4-7f6d1d8c6ddd\">\n",
              "      Upload widget is only available when the cell has been executed in the\n",
              "      current browser session. Please rerun this cell to enable.\n",
              "      </output>\n",
              "      <script src=\"/nbextensions/google.colab/files.js\"></script> "
            ],
            "text/plain": [
              "<IPython.core.display.HTML object>"
            ]
          },
          "metadata": {}
        },
        {
          "output_type": "stream",
          "text": [
            "Saving used_cars.csv to used_cars.csv\n",
            "Saving billionaires.csv to billionaires.csv\n",
            "Saving cities.csv to cities.csv\n",
            "Saving clothes.csv to clothes.csv\n",
            "Saving dawn.csv to dawn.csv\n",
            "Saving lochs.csv to lochs.csv\n",
            "Saving lochs2.csv to lochs2.csv\n",
            "Saving mountains.csv to mountains.csv\n",
            "Saving weather_forecast.csv to weather_forecast.csv\n",
            "User uploaded file \"used_cars.csv\" with length 160 bytes\n",
            "User uploaded file \"billionaires.csv\" with length 318140 bytes\n",
            "User uploaded file \"cities.csv\" with length 122 bytes\n",
            "User uploaded file \"clothes.csv\" with length 92 bytes\n",
            "User uploaded file \"dawn.csv\" with length 61 bytes\n",
            "User uploaded file \"lochs.csv\" with length 160 bytes\n",
            "User uploaded file \"lochs2.csv\" with length 127 bytes\n",
            "User uploaded file \"mountains.csv\" with length 2373 bytes\n",
            "User uploaded file \"weather_forecast.csv\" with length 144 bytes\n"
          ],
          "name": "stdout"
        }
      ]
    },
    {
      "cell_type": "markdown",
      "metadata": {
        "id": "8tW_oz1QL07B"
      },
      "source": [
        "Read each of the datasets from csv files into a pandas dataframe."
      ]
    },
    {
      "cell_type": "code",
      "metadata": {
        "id": "0y2a2xntY9e8"
      },
      "source": [
        "lochs = pd.read_csv(path.join(input_file_path, \"lochs.csv\"))\n",
        "cities = pd.read_csv(path.join(input_file_path, \"cities.csv\"))\n",
        "clothes = pd.read_csv(path.join(input_file_path, \"clothes.csv\"))\n",
        "used_cars = pd.read_csv(path.join(input_file_path, \"used_cars.csv\"))"
      ],
      "execution_count": 4,
      "outputs": []
    },
    {
      "cell_type": "markdown",
      "metadata": {
        "id": "1M9rvH03L-yp"
      },
      "source": [
        "Have a look at each of the datasets to make sure they contain what you expect."
      ]
    },
    {
      "cell_type": "code",
      "metadata": {
        "id": "yUFwlSdzKKl8",
        "colab": {
          "base_uri": "https://localhost:8080/",
          "height": 204
        },
        "outputId": "9b83e421-92d5-411e-c574-fd2ed2440042"
      },
      "source": [
        "lochs"
      ],
      "execution_count": 5,
      "outputs": [
        {
          "output_type": "execute_result",
          "data": {
            "text/html": [
              "<div>\n",
              "<style scoped>\n",
              "    .dataframe tbody tr th:only-of-type {\n",
              "        vertical-align: middle;\n",
              "    }\n",
              "\n",
              "    .dataframe tbody tr th {\n",
              "        vertical-align: top;\n",
              "    }\n",
              "\n",
              "    .dataframe thead th {\n",
              "        text-align: right;\n",
              "    }\n",
              "</style>\n",
              "<table border=\"1\" class=\"dataframe\">\n",
              "  <thead>\n",
              "    <tr style=\"text-align: right;\">\n",
              "      <th></th>\n",
              "      <th>loch</th>\n",
              "      <th>volume</th>\n",
              "      <th>length</th>\n",
              "      <th>max_depth</th>\n",
              "    </tr>\n",
              "  </thead>\n",
              "  <tbody>\n",
              "    <tr>\n",
              "      <th>0</th>\n",
              "      <td>Loch Ness</td>\n",
              "      <td>7.45280</td>\n",
              "      <td>36.2</td>\n",
              "      <td>227</td>\n",
              "    </tr>\n",
              "    <tr>\n",
              "      <th>1</th>\n",
              "      <td>Loch Lomond</td>\n",
              "      <td>2.61826</td>\n",
              "      <td>36.0</td>\n",
              "      <td>190</td>\n",
              "    </tr>\n",
              "    <tr>\n",
              "      <th>2</th>\n",
              "      <td>Loch Morar</td>\n",
              "      <td>2.38560</td>\n",
              "      <td>18.8</td>\n",
              "      <td>310</td>\n",
              "    </tr>\n",
              "    <tr>\n",
              "      <th>3</th>\n",
              "      <td>Loch Tay</td>\n",
              "      <td>1.67854</td>\n",
              "      <td>23.0</td>\n",
              "      <td>150</td>\n",
              "    </tr>\n",
              "    <tr>\n",
              "      <th>4</th>\n",
              "      <td>Loch Awe</td>\n",
              "      <td>1.20076</td>\n",
              "      <td>41.0</td>\n",
              "      <td>94</td>\n",
              "    </tr>\n",
              "  </tbody>\n",
              "</table>\n",
              "</div>"
            ],
            "text/plain": [
              "          loch   volume  length  max_depth\n",
              "0    Loch Ness  7.45280    36.2        227\n",
              "1  Loch Lomond  2.61826    36.0        190\n",
              "2   Loch Morar  2.38560    18.8        310\n",
              "3     Loch Tay  1.67854    23.0        150\n",
              "4     Loch Awe  1.20076    41.0         94"
            ]
          },
          "metadata": {},
          "execution_count": 5
        }
      ]
    },
    {
      "cell_type": "code",
      "metadata": {
        "id": "iHYjyb95Lt6Z",
        "colab": {
          "base_uri": "https://localhost:8080/",
          "height": 173
        },
        "outputId": "525f919b-5af0-4bda-c376-376c6e27ba0f"
      },
      "source": [
        "cities"
      ],
      "execution_count": 6,
      "outputs": [
        {
          "output_type": "execute_result",
          "data": {
            "text/html": [
              "<div>\n",
              "<style scoped>\n",
              "    .dataframe tbody tr th:only-of-type {\n",
              "        vertical-align: middle;\n",
              "    }\n",
              "\n",
              "    .dataframe tbody tr th {\n",
              "        vertical-align: top;\n",
              "    }\n",
              "\n",
              "    .dataframe thead th {\n",
              "        text-align: right;\n",
              "    }\n",
              "</style>\n",
              "<table border=\"1\" class=\"dataframe\">\n",
              "  <thead>\n",
              "    <tr style=\"text-align: right;\">\n",
              "      <th></th>\n",
              "      <th>temperature</th>\n",
              "      <th>dusk</th>\n",
              "      <th>dawn</th>\n",
              "      <th>location</th>\n",
              "    </tr>\n",
              "  </thead>\n",
              "  <tbody>\n",
              "    <tr>\n",
              "      <th>0</th>\n",
              "      <td>15</td>\n",
              "      <td>22:50</td>\n",
              "      <td>3:30</td>\n",
              "      <td>Edinburgh</td>\n",
              "    </tr>\n",
              "    <tr>\n",
              "      <th>1</th>\n",
              "      <td>21</td>\n",
              "      <td>22:28</td>\n",
              "      <td>5:09</td>\n",
              "      <td>Paris</td>\n",
              "    </tr>\n",
              "    <tr>\n",
              "      <th>2</th>\n",
              "      <td>17</td>\n",
              "      <td>17:21</td>\n",
              "      <td>6:25</td>\n",
              "      <td>Sydney</td>\n",
              "    </tr>\n",
              "    <tr>\n",
              "      <th>3</th>\n",
              "      <td>17</td>\n",
              "      <td>20:55</td>\n",
              "      <td>4:54</td>\n",
              "      <td>New York</td>\n",
              "    </tr>\n",
              "  </tbody>\n",
              "</table>\n",
              "</div>"
            ],
            "text/plain": [
              "   temperature   dusk  dawn   location\n",
              "0           15  22:50  3:30  Edinburgh\n",
              "1           21  22:28  5:09      Paris\n",
              "2           17  17:21  6:25     Sydney\n",
              "3           17  20:55  4:54   New York"
            ]
          },
          "metadata": {},
          "execution_count": 6
        }
      ]
    },
    {
      "cell_type": "code",
      "metadata": {
        "id": "xE2VKTYUyEXz",
        "colab": {
          "base_uri": "https://localhost:8080/",
          "height": 173
        },
        "outputId": "4685d953-97c5-4716-d01a-580896b23adc"
      },
      "source": [
        "clothes"
      ],
      "execution_count": 7,
      "outputs": [
        {
          "output_type": "execute_result",
          "data": {
            "text/html": [
              "<div>\n",
              "<style scoped>\n",
              "    .dataframe tbody tr th:only-of-type {\n",
              "        vertical-align: middle;\n",
              "    }\n",
              "\n",
              "    .dataframe tbody tr th {\n",
              "        vertical-align: top;\n",
              "    }\n",
              "\n",
              "    .dataframe thead th {\n",
              "        text-align: right;\n",
              "    }\n",
              "</style>\n",
              "<table border=\"1\" class=\"dataframe\">\n",
              "  <thead>\n",
              "    <tr style=\"text-align: right;\">\n",
              "      <th></th>\n",
              "      <th>type</th>\n",
              "      <th>size</th>\n",
              "      <th>price_£</th>\n",
              "      <th>colour</th>\n",
              "    </tr>\n",
              "  </thead>\n",
              "  <tbody>\n",
              "    <tr>\n",
              "      <th>0</th>\n",
              "      <td>Hat</td>\n",
              "      <td>M</td>\n",
              "      <td>15.99</td>\n",
              "      <td>Red</td>\n",
              "    </tr>\n",
              "    <tr>\n",
              "      <th>1</th>\n",
              "      <td>Coat</td>\n",
              "      <td>L</td>\n",
              "      <td>44.95</td>\n",
              "      <td>Blue</td>\n",
              "    </tr>\n",
              "    <tr>\n",
              "      <th>2</th>\n",
              "      <td>Hat</td>\n",
              "      <td>S</td>\n",
              "      <td>10.99</td>\n",
              "      <td>Black</td>\n",
              "    </tr>\n",
              "    <tr>\n",
              "      <th>3</th>\n",
              "      <td>Top</td>\n",
              "      <td>S</td>\n",
              "      <td>20.00</td>\n",
              "      <td>White</td>\n",
              "    </tr>\n",
              "  </tbody>\n",
              "</table>\n",
              "</div>"
            ],
            "text/plain": [
              "   type size  price_£ colour\n",
              "0   Hat    M    15.99    Red\n",
              "1  Coat    L    44.95   Blue\n",
              "2   Hat    S    10.99  Black\n",
              "3   Top    S    20.00  White"
            ]
          },
          "metadata": {},
          "execution_count": 7
        }
      ]
    },
    {
      "cell_type": "code",
      "metadata": {
        "id": "Oq0Y55SV8aJi",
        "colab": {
          "base_uri": "https://localhost:8080/",
          "height": 235
        },
        "outputId": "48079b7e-163b-4b97-9ec8-7ad89c0e4211"
      },
      "source": [
        "used_cars"
      ],
      "execution_count": 8,
      "outputs": [
        {
          "output_type": "execute_result",
          "data": {
            "text/html": [
              "<div>\n",
              "<style scoped>\n",
              "    .dataframe tbody tr th:only-of-type {\n",
              "        vertical-align: middle;\n",
              "    }\n",
              "\n",
              "    .dataframe tbody tr th {\n",
              "        vertical-align: top;\n",
              "    }\n",
              "\n",
              "    .dataframe thead th {\n",
              "        text-align: right;\n",
              "    }\n",
              "</style>\n",
              "<table border=\"1\" class=\"dataframe\">\n",
              "  <thead>\n",
              "    <tr style=\"text-align: right;\">\n",
              "      <th></th>\n",
              "      <th>make</th>\n",
              "      <th>model</th>\n",
              "      <th>price</th>\n",
              "      <th>rating</th>\n",
              "    </tr>\n",
              "  </thead>\n",
              "  <tbody>\n",
              "    <tr>\n",
              "      <th>0</th>\n",
              "      <td>Audi</td>\n",
              "      <td>A1</td>\n",
              "      <td>12500</td>\n",
              "      <td>62</td>\n",
              "    </tr>\n",
              "    <tr>\n",
              "      <th>1</th>\n",
              "      <td>Ford</td>\n",
              "      <td>Fiesta</td>\n",
              "      <td>12000</td>\n",
              "      <td>48</td>\n",
              "    </tr>\n",
              "    <tr>\n",
              "      <th>2</th>\n",
              "      <td>Ford</td>\n",
              "      <td>Puma</td>\n",
              "      <td>22500</td>\n",
              "      <td>71</td>\n",
              "    </tr>\n",
              "    <tr>\n",
              "      <th>3</th>\n",
              "      <td>Vauxhall</td>\n",
              "      <td>Corsa</td>\n",
              "      <td>11995</td>\n",
              "      <td>74</td>\n",
              "    </tr>\n",
              "    <tr>\n",
              "      <th>4</th>\n",
              "      <td>Toyota</td>\n",
              "      <td>Corolla</td>\n",
              "      <td>22075</td>\n",
              "      <td>84</td>\n",
              "    </tr>\n",
              "    <tr>\n",
              "      <th>5</th>\n",
              "      <td>Mercedes</td>\n",
              "      <td>S Class</td>\n",
              "      <td>49948</td>\n",
              "      <td>81</td>\n",
              "    </tr>\n",
              "  </tbody>\n",
              "</table>\n",
              "</div>"
            ],
            "text/plain": [
              "       make    model  price  rating\n",
              "0      Audi       A1  12500      62\n",
              "1      Ford   Fiesta  12000      48\n",
              "2      Ford     Puma  22500      71\n",
              "3  Vauxhall    Corsa  11995      74\n",
              "4    Toyota  Corolla  22075      84\n",
              "5  Mercedes  S Class  49948      81"
            ]
          },
          "metadata": {},
          "execution_count": 8
        }
      ]
    },
    {
      "cell_type": "markdown",
      "metadata": {
        "id": "7H81uIJ9Qa1p"
      },
      "source": [
        "If everything looks okay, we're ready to do some data manipulation!\n",
        "\n",
        "(If not, try uploading the csv files again)."
      ]
    },
    {
      "cell_type": "markdown",
      "metadata": {
        "id": "A4uBG7u8xNca"
      },
      "source": [
        "## Manipluating Columns"
      ]
    },
    {
      "cell_type": "markdown",
      "metadata": {
        "id": "aIK6o3q6xSPG"
      },
      "source": [
        "### Select columns \n",
        "\n",
        "You're doing some analysis of Scottish lochs. You're only interested in the name of the `loch` and its `length`.\n",
        "\n",
        "From the `lochs` dataset, select the `loch` and `length` columns and make a new dataframe, `lochs_small` from these columns.\n",
        "\n",
        "Display this new dataframe (so that you can see what it looks like)."
      ]
    },
    {
      "cell_type": "markdown",
      "metadata": {
        "id": "BKwhwLftUWpu"
      },
      "source": [
        "#### Example"
      ]
    },
    {
      "cell_type": "code",
      "metadata": {
        "id": "K5tErXd-xzw2",
        "cellView": "form",
        "colab": {
          "base_uri": "https://localhost:8080/",
          "height": 204
        },
        "outputId": "59ee3183-7239-4971-e150-5f071a5d1ec1"
      },
      "source": [
        "#@title\n",
        "# The next line does the select\n",
        "lochs_small = lochs[['loch', 'length']]\n",
        "\n",
        "# The next line displays the new dataframe \n",
        "lochs_small"
      ],
      "execution_count": 9,
      "outputs": [
        {
          "output_type": "execute_result",
          "data": {
            "text/html": [
              "<div>\n",
              "<style scoped>\n",
              "    .dataframe tbody tr th:only-of-type {\n",
              "        vertical-align: middle;\n",
              "    }\n",
              "\n",
              "    .dataframe tbody tr th {\n",
              "        vertical-align: top;\n",
              "    }\n",
              "\n",
              "    .dataframe thead th {\n",
              "        text-align: right;\n",
              "    }\n",
              "</style>\n",
              "<table border=\"1\" class=\"dataframe\">\n",
              "  <thead>\n",
              "    <tr style=\"text-align: right;\">\n",
              "      <th></th>\n",
              "      <th>loch</th>\n",
              "      <th>length</th>\n",
              "    </tr>\n",
              "  </thead>\n",
              "  <tbody>\n",
              "    <tr>\n",
              "      <th>0</th>\n",
              "      <td>Loch Ness</td>\n",
              "      <td>36.2</td>\n",
              "    </tr>\n",
              "    <tr>\n",
              "      <th>1</th>\n",
              "      <td>Loch Lomond</td>\n",
              "      <td>36.0</td>\n",
              "    </tr>\n",
              "    <tr>\n",
              "      <th>2</th>\n",
              "      <td>Loch Morar</td>\n",
              "      <td>18.8</td>\n",
              "    </tr>\n",
              "    <tr>\n",
              "      <th>3</th>\n",
              "      <td>Loch Tay</td>\n",
              "      <td>23.0</td>\n",
              "    </tr>\n",
              "    <tr>\n",
              "      <th>4</th>\n",
              "      <td>Loch Awe</td>\n",
              "      <td>41.0</td>\n",
              "    </tr>\n",
              "  </tbody>\n",
              "</table>\n",
              "</div>"
            ],
            "text/plain": [
              "          loch  length\n",
              "0    Loch Ness    36.2\n",
              "1  Loch Lomond    36.0\n",
              "2   Loch Morar    18.8\n",
              "3     Loch Tay    23.0\n",
              "4     Loch Awe    41.0"
            ]
          },
          "metadata": {},
          "execution_count": 9
        }
      ]
    },
    {
      "cell_type": "markdown",
      "metadata": {
        "id": "5-h7G2hpUZ2I"
      },
      "source": [
        "#### Task 1\n",
        "\n",
        "1. Select the name of the `loch`, its `volume` and its maximum depth (`max_depth`) and save it to a new dataframe.\n",
        "\n",
        "2. Display the new dataframe.\n",
        "\n"
      ]
    },
    {
      "cell_type": "code",
      "metadata": {
        "id": "bYFgF-PNVcy3"
      },
      "source": [
        "# select the columns\n",
        "\n",
        "\n",
        "# display the new dataframe \n"
      ],
      "execution_count": 10,
      "outputs": []
    },
    {
      "cell_type": "markdown",
      "metadata": {
        "id": "P6MLX27pVv26"
      },
      "source": [
        "#### Extension Task\n",
        "\n",
        "1. Choose any columns from the `cities` dataframe.\n",
        "2. Select them and save the new columns to a new dataframe\n",
        "2. Display the new dataframe.\n"
      ]
    },
    {
      "cell_type": "code",
      "metadata": {
        "id": "NNTq7VR5gnka"
      },
      "source": [
        "# select the columns\n",
        "\n",
        "\n",
        "# display the new dataframe \n"
      ],
      "execution_count": 11,
      "outputs": []
    },
    {
      "cell_type": "markdown",
      "metadata": {
        "id": "wvSuqJTIxcmq"
      },
      "source": [
        "### Reorder columns\n",
        "\n",
        "You've found a dataset on cities which is a little hard to read because of the way the columns are ordered. You decide to re-order them, to make the data easier to read."
      ]
    },
    {
      "cell_type": "markdown",
      "metadata": {
        "id": "YEHc4-LPaULe"
      },
      "source": [
        "#### Example"
      ]
    },
    {
      "cell_type": "markdown",
      "metadata": {
        "id": "J2rXBy4paZIn"
      },
      "source": [
        "Reorder the columns in the `cities` dataset so that they are in the order, `location`, `temperature`, `dawn`, `dusk`. \n",
        "\n",
        "Save the new dataframe that has been created by reordering.\n",
        "\n",
        "Display the new dataframe."
      ]
    },
    {
      "cell_type": "code",
      "metadata": {
        "id": "uis98vN8eBox",
        "collapsed": true,
        "colab": {
          "base_uri": "https://localhost:8080/",
          "height": 173
        },
        "outputId": "4d2548fa-09a3-4398-9148-012254a84b27"
      },
      "source": [
        "# reorder the columns\n",
        "cities_new = cities[['location', 'temperature', 'dawn', 'dusk']]\n",
        "\n",
        "# display the new dataframe\n",
        "cities_new"
      ],
      "execution_count": 12,
      "outputs": [
        {
          "output_type": "execute_result",
          "data": {
            "text/html": [
              "<div>\n",
              "<style scoped>\n",
              "    .dataframe tbody tr th:only-of-type {\n",
              "        vertical-align: middle;\n",
              "    }\n",
              "\n",
              "    .dataframe tbody tr th {\n",
              "        vertical-align: top;\n",
              "    }\n",
              "\n",
              "    .dataframe thead th {\n",
              "        text-align: right;\n",
              "    }\n",
              "</style>\n",
              "<table border=\"1\" class=\"dataframe\">\n",
              "  <thead>\n",
              "    <tr style=\"text-align: right;\">\n",
              "      <th></th>\n",
              "      <th>location</th>\n",
              "      <th>temperature</th>\n",
              "      <th>dawn</th>\n",
              "      <th>dusk</th>\n",
              "    </tr>\n",
              "  </thead>\n",
              "  <tbody>\n",
              "    <tr>\n",
              "      <th>0</th>\n",
              "      <td>Edinburgh</td>\n",
              "      <td>15</td>\n",
              "      <td>3:30</td>\n",
              "      <td>22:50</td>\n",
              "    </tr>\n",
              "    <tr>\n",
              "      <th>1</th>\n",
              "      <td>Paris</td>\n",
              "      <td>21</td>\n",
              "      <td>5:09</td>\n",
              "      <td>22:28</td>\n",
              "    </tr>\n",
              "    <tr>\n",
              "      <th>2</th>\n",
              "      <td>Sydney</td>\n",
              "      <td>17</td>\n",
              "      <td>6:25</td>\n",
              "      <td>17:21</td>\n",
              "    </tr>\n",
              "    <tr>\n",
              "      <th>3</th>\n",
              "      <td>New York</td>\n",
              "      <td>17</td>\n",
              "      <td>4:54</td>\n",
              "      <td>20:55</td>\n",
              "    </tr>\n",
              "  </tbody>\n",
              "</table>\n",
              "</div>"
            ],
            "text/plain": [
              "    location  temperature  dawn   dusk\n",
              "0  Edinburgh           15  3:30  22:50\n",
              "1      Paris           21  5:09  22:28\n",
              "2     Sydney           17  6:25  17:21\n",
              "3   New York           17  4:54  20:55"
            ]
          },
          "metadata": {},
          "execution_count": 12
        }
      ]
    },
    {
      "cell_type": "markdown",
      "metadata": {
        "id": "2V-xvqVkfQFk"
      },
      "source": [
        "That's better!\n",
        "\n",
        "(Did you notice that *selecting* and *reordering* are really similar?)"
      ]
    },
    {
      "cell_type": "markdown",
      "metadata": {
        "id": "fIVlrDDCfUd8"
      },
      "source": [
        "#### Task 1\n",
        "\n",
        "Another sensible way to reorder the columns so that they're easier to understand would be `location`, `dawn`, `dusk`, `temperature`.  \n",
        "\n",
        "1. Reorder the columns in the `cities` dataset so that they are in this order \n",
        "2. Save the new dataframe that has been created by reordering.\n",
        "3. Display the new dataframe."
      ]
    },
    {
      "cell_type": "code",
      "metadata": {
        "id": "g3j__pwxgWE7"
      },
      "source": [
        "# reorder the columns\n",
        "\n",
        "\n",
        "# display the new dataframe \n"
      ],
      "execution_count": 13,
      "outputs": []
    },
    {
      "cell_type": "markdown",
      "metadata": {
        "id": "yyUMg9DSgbKh"
      },
      "source": [
        "#### Extension Task"
      ]
    },
    {
      "cell_type": "markdown",
      "metadata": {
        "id": "67M6x6BtghCV"
      },
      "source": [
        "1. Reorder the columns from the `lochs` dataframe.\n",
        "2. Save the columns to a new dataframe.\n",
        "2. Display the new dataframe.\n"
      ]
    },
    {
      "cell_type": "code",
      "metadata": {
        "id": "FB1t5bxtgqx_"
      },
      "source": [
        "# reorder the columns\n",
        "\n",
        "\n",
        "# display the new dataframe \n"
      ],
      "execution_count": 14,
      "outputs": []
    },
    {
      "cell_type": "markdown",
      "metadata": {
        "id": "CwVvI18vyKLr"
      },
      "source": [
        "## Reformat Columns\n",
        "\n",
        "Sometimes we may wish to change how the values in a column in data are *displayed* without changing the *actual* values. "
      ]
    },
    {
      "cell_type": "markdown",
      "metadata": {
        "id": "CODSBKlnysQ9"
      },
      "source": [
        "#### Example 1 \n",
        "\n",
        "Take the `price_£` column in the `clothes` dataframe, for example. Run the following code cell to see how the values in this column are displayed."
      ]
    },
    {
      "cell_type": "code",
      "metadata": {
        "id": "_WDqvlFMxIIP",
        "colab": {
          "base_uri": "https://localhost:8080/",
          "height": 173
        },
        "outputId": "fa00d975-37d6-40fa-8938-a96e6006715b"
      },
      "source": [
        "clothes"
      ],
      "execution_count": 15,
      "outputs": [
        {
          "output_type": "execute_result",
          "data": {
            "text/html": [
              "<div>\n",
              "<style scoped>\n",
              "    .dataframe tbody tr th:only-of-type {\n",
              "        vertical-align: middle;\n",
              "    }\n",
              "\n",
              "    .dataframe tbody tr th {\n",
              "        vertical-align: top;\n",
              "    }\n",
              "\n",
              "    .dataframe thead th {\n",
              "        text-align: right;\n",
              "    }\n",
              "</style>\n",
              "<table border=\"1\" class=\"dataframe\">\n",
              "  <thead>\n",
              "    <tr style=\"text-align: right;\">\n",
              "      <th></th>\n",
              "      <th>type</th>\n",
              "      <th>size</th>\n",
              "      <th>price_£</th>\n",
              "      <th>colour</th>\n",
              "    </tr>\n",
              "  </thead>\n",
              "  <tbody>\n",
              "    <tr>\n",
              "      <th>0</th>\n",
              "      <td>Hat</td>\n",
              "      <td>M</td>\n",
              "      <td>15.99</td>\n",
              "      <td>Red</td>\n",
              "    </tr>\n",
              "    <tr>\n",
              "      <th>1</th>\n",
              "      <td>Coat</td>\n",
              "      <td>L</td>\n",
              "      <td>44.95</td>\n",
              "      <td>Blue</td>\n",
              "    </tr>\n",
              "    <tr>\n",
              "      <th>2</th>\n",
              "      <td>Hat</td>\n",
              "      <td>S</td>\n",
              "      <td>10.99</td>\n",
              "      <td>Black</td>\n",
              "    </tr>\n",
              "    <tr>\n",
              "      <th>3</th>\n",
              "      <td>Top</td>\n",
              "      <td>S</td>\n",
              "      <td>20.00</td>\n",
              "      <td>White</td>\n",
              "    </tr>\n",
              "  </tbody>\n",
              "</table>\n",
              "</div>"
            ],
            "text/plain": [
              "   type size  price_£ colour\n",
              "0   Hat    M    15.99    Red\n",
              "1  Coat    L    44.95   Blue\n",
              "2   Hat    S    10.99  Black\n",
              "3   Top    S    20.00  White"
            ]
          },
          "metadata": {},
          "execution_count": 15
        }
      ]
    },
    {
      "cell_type": "markdown",
      "metadata": {
        "id": "o1i-pOWGy89o"
      },
      "source": [
        "<a name=\"format-dictionary\"></a>\n",
        "You can see that they are displayed as floating point numbers. What if we wanted to display them with a '£' symbol e.g. **£15.99** rather than **15.99**? How could we do that?\n",
        "\n",
        "We can use the pandas `format()` function. We pass a Python dictionary to `format()`. The dictionary tells `format()` how to format the columns you wish to format. It has column names as keys, and the format to use as values. This lets us specify how we'd like each column to be formatted.\n",
        "\n",
        "In the examples below, we will keep it simple and only format a single column at a time.\n",
        "\n",
        "Here's an example of a dictionary we can use to display values in the `price_£` column so that they start with a '£' and are shown with 2 decimal places.\n",
        "\n",
        "```python\n",
        "pound_to_2_dp_formatter = {\n",
        "    'price_£': '£{:,.2f}'\n",
        "}\n",
        "```\n",
        "\n",
        "The format '£{:,.2f}' is a string. \n",
        "\n",
        "Run the next code cell to create the format dictionary."
      ]
    },
    {
      "cell_type": "code",
      "metadata": {
        "id": "rpwgRRzkzVos"
      },
      "source": [
        "\n",
        "# This is the dictionary\n",
        "pound_to_2_dp_formatter = {\n",
        "    # price_£ is the column we want to format\n",
        "    # and £{:,.2f} is the format we want to use for it.\n",
        "    # This format means \"Put a £ symbol at the start and display 2 decimal places after the decimal point.\"\n",
        "    'price_£': '£{:,.2f}'\n",
        "}"
      ],
      "execution_count": 16,
      "outputs": []
    },
    {
      "cell_type": "markdown",
      "metadata": {
        "id": "weWwEGn82WXT"
      },
      "source": [
        "Now we can use this dictionary to change how the values in the `price_£` column are displayed. \n",
        "\n",
        "Run the next code cell to see."
      ]
    },
    {
      "cell_type": "code",
      "metadata": {
        "id": "nTppkCHV2Ekx",
        "colab": {
          "base_uri": "https://localhost:8080/",
          "height": 124
        },
        "outputId": "e835a935-c9d6-46e0-f937-74c79f6b5d8e"
      },
      "source": [
        "# format the dataframe 'clothes' using the format dictionary you've created\n",
        "clothes.style.format(pound_to_2_dp_formatter)"
      ],
      "execution_count": 17,
      "outputs": [
        {
          "output_type": "execute_result",
          "data": {
            "text/html": [
              "<style  type=\"text/css\" >\n",
              "</style><table id=\"T_0abe0ee2_0666_11ec_8aae_0242ac1c0002\" ><thead>    <tr>        <th class=\"blank level0\" ></th>        <th class=\"col_heading level0 col0\" >type</th>        <th class=\"col_heading level0 col1\" >size</th>        <th class=\"col_heading level0 col2\" >price_£</th>        <th class=\"col_heading level0 col3\" >colour</th>    </tr></thead><tbody>\n",
              "                <tr>\n",
              "                        <th id=\"T_0abe0ee2_0666_11ec_8aae_0242ac1c0002level0_row0\" class=\"row_heading level0 row0\" >0</th>\n",
              "                        <td id=\"T_0abe0ee2_0666_11ec_8aae_0242ac1c0002row0_col0\" class=\"data row0 col0\" >Hat</td>\n",
              "                        <td id=\"T_0abe0ee2_0666_11ec_8aae_0242ac1c0002row0_col1\" class=\"data row0 col1\" >M</td>\n",
              "                        <td id=\"T_0abe0ee2_0666_11ec_8aae_0242ac1c0002row0_col2\" class=\"data row0 col2\" >£15.99</td>\n",
              "                        <td id=\"T_0abe0ee2_0666_11ec_8aae_0242ac1c0002row0_col3\" class=\"data row0 col3\" >Red</td>\n",
              "            </tr>\n",
              "            <tr>\n",
              "                        <th id=\"T_0abe0ee2_0666_11ec_8aae_0242ac1c0002level0_row1\" class=\"row_heading level0 row1\" >1</th>\n",
              "                        <td id=\"T_0abe0ee2_0666_11ec_8aae_0242ac1c0002row1_col0\" class=\"data row1 col0\" >Coat</td>\n",
              "                        <td id=\"T_0abe0ee2_0666_11ec_8aae_0242ac1c0002row1_col1\" class=\"data row1 col1\" >L</td>\n",
              "                        <td id=\"T_0abe0ee2_0666_11ec_8aae_0242ac1c0002row1_col2\" class=\"data row1 col2\" >£44.95</td>\n",
              "                        <td id=\"T_0abe0ee2_0666_11ec_8aae_0242ac1c0002row1_col3\" class=\"data row1 col3\" >Blue</td>\n",
              "            </tr>\n",
              "            <tr>\n",
              "                        <th id=\"T_0abe0ee2_0666_11ec_8aae_0242ac1c0002level0_row2\" class=\"row_heading level0 row2\" >2</th>\n",
              "                        <td id=\"T_0abe0ee2_0666_11ec_8aae_0242ac1c0002row2_col0\" class=\"data row2 col0\" >Hat</td>\n",
              "                        <td id=\"T_0abe0ee2_0666_11ec_8aae_0242ac1c0002row2_col1\" class=\"data row2 col1\" >S</td>\n",
              "                        <td id=\"T_0abe0ee2_0666_11ec_8aae_0242ac1c0002row2_col2\" class=\"data row2 col2\" >£10.99</td>\n",
              "                        <td id=\"T_0abe0ee2_0666_11ec_8aae_0242ac1c0002row2_col3\" class=\"data row2 col3\" >Black</td>\n",
              "            </tr>\n",
              "            <tr>\n",
              "                        <th id=\"T_0abe0ee2_0666_11ec_8aae_0242ac1c0002level0_row3\" class=\"row_heading level0 row3\" >3</th>\n",
              "                        <td id=\"T_0abe0ee2_0666_11ec_8aae_0242ac1c0002row3_col0\" class=\"data row3 col0\" >Top</td>\n",
              "                        <td id=\"T_0abe0ee2_0666_11ec_8aae_0242ac1c0002row3_col1\" class=\"data row3 col1\" >S</td>\n",
              "                        <td id=\"T_0abe0ee2_0666_11ec_8aae_0242ac1c0002row3_col2\" class=\"data row3 col2\" >£20.00</td>\n",
              "                        <td id=\"T_0abe0ee2_0666_11ec_8aae_0242ac1c0002row3_col3\" class=\"data row3 col3\" >White</td>\n",
              "            </tr>\n",
              "    </tbody></table>"
            ],
            "text/plain": [
              "<pandas.io.formats.style.Styler at 0x7f764c3f0390>"
            ]
          },
          "metadata": {},
          "execution_count": 17
        }
      ]
    },
    {
      "cell_type": "markdown",
      "metadata": {
        "id": "ODzYEQm12xPo"
      },
      "source": [
        "Let's make sure that it's only how the column `price_£` is *displayed* that has changed, and not the *actual* values.\n",
        "\n",
        "Run the next code cell to check."
      ]
    },
    {
      "cell_type": "code",
      "metadata": {
        "id": "ZrWgQlQFzslq",
        "colab": {
          "base_uri": "https://localhost:8080/",
          "height": 173
        },
        "outputId": "a837ac37-d5ad-4dac-da0f-80dd70a170a1"
      },
      "source": [
        "clothes"
      ],
      "execution_count": 18,
      "outputs": [
        {
          "output_type": "execute_result",
          "data": {
            "text/html": [
              "<div>\n",
              "<style scoped>\n",
              "    .dataframe tbody tr th:only-of-type {\n",
              "        vertical-align: middle;\n",
              "    }\n",
              "\n",
              "    .dataframe tbody tr th {\n",
              "        vertical-align: top;\n",
              "    }\n",
              "\n",
              "    .dataframe thead th {\n",
              "        text-align: right;\n",
              "    }\n",
              "</style>\n",
              "<table border=\"1\" class=\"dataframe\">\n",
              "  <thead>\n",
              "    <tr style=\"text-align: right;\">\n",
              "      <th></th>\n",
              "      <th>type</th>\n",
              "      <th>size</th>\n",
              "      <th>price_£</th>\n",
              "      <th>colour</th>\n",
              "    </tr>\n",
              "  </thead>\n",
              "  <tbody>\n",
              "    <tr>\n",
              "      <th>0</th>\n",
              "      <td>Hat</td>\n",
              "      <td>M</td>\n",
              "      <td>15.99</td>\n",
              "      <td>Red</td>\n",
              "    </tr>\n",
              "    <tr>\n",
              "      <th>1</th>\n",
              "      <td>Coat</td>\n",
              "      <td>L</td>\n",
              "      <td>44.95</td>\n",
              "      <td>Blue</td>\n",
              "    </tr>\n",
              "    <tr>\n",
              "      <th>2</th>\n",
              "      <td>Hat</td>\n",
              "      <td>S</td>\n",
              "      <td>10.99</td>\n",
              "      <td>Black</td>\n",
              "    </tr>\n",
              "    <tr>\n",
              "      <th>3</th>\n",
              "      <td>Top</td>\n",
              "      <td>S</td>\n",
              "      <td>20.00</td>\n",
              "      <td>White</td>\n",
              "    </tr>\n",
              "  </tbody>\n",
              "</table>\n",
              "</div>"
            ],
            "text/plain": [
              "   type size  price_£ colour\n",
              "0   Hat    M    15.99    Red\n",
              "1  Coat    L    44.95   Blue\n",
              "2   Hat    S    10.99  Black\n",
              "3   Top    S    20.00  White"
            ]
          },
          "metadata": {},
          "execution_count": 18
        }
      ]
    },
    {
      "cell_type": "markdown",
      "metadata": {
        "id": "1gdlwkBI3Zr9"
      },
      "source": [
        "Are the prices still floating point numbers with no '£' symbol? Great!"
      ]
    },
    {
      "cell_type": "markdown",
      "metadata": {
        "id": "N890o624ea0_"
      },
      "source": [
        "#### Task 1\n",
        "\n",
        "In the `used_cars` dataset, each car has an `approval_rating`. This is the percentage of customers who bought this car who would recommend it to others. \n",
        "\n",
        "Run the next code cell to have a look.\n",
        "\n",
        "\n",
        "\n",
        "\n",
        "\n"
      ]
    },
    {
      "cell_type": "code",
      "metadata": {
        "id": "q7V3qMIMzAil",
        "colab": {
          "base_uri": "https://localhost:8080/",
          "height": 235
        },
        "outputId": "07c3e496-cf39-476c-ffbb-0bc4ae3040c0"
      },
      "source": [
        "used_cars"
      ],
      "execution_count": 22,
      "outputs": [
        {
          "output_type": "execute_result",
          "data": {
            "text/html": [
              "<div>\n",
              "<style scoped>\n",
              "    .dataframe tbody tr th:only-of-type {\n",
              "        vertical-align: middle;\n",
              "    }\n",
              "\n",
              "    .dataframe tbody tr th {\n",
              "        vertical-align: top;\n",
              "    }\n",
              "\n",
              "    .dataframe thead th {\n",
              "        text-align: right;\n",
              "    }\n",
              "</style>\n",
              "<table border=\"1\" class=\"dataframe\">\n",
              "  <thead>\n",
              "    <tr style=\"text-align: right;\">\n",
              "      <th></th>\n",
              "      <th>make</th>\n",
              "      <th>model</th>\n",
              "      <th>price</th>\n",
              "      <th>rating</th>\n",
              "    </tr>\n",
              "  </thead>\n",
              "  <tbody>\n",
              "    <tr>\n",
              "      <th>0</th>\n",
              "      <td>Audi</td>\n",
              "      <td>A1</td>\n",
              "      <td>12500</td>\n",
              "      <td>62</td>\n",
              "    </tr>\n",
              "    <tr>\n",
              "      <th>1</th>\n",
              "      <td>Ford</td>\n",
              "      <td>Fiesta</td>\n",
              "      <td>12000</td>\n",
              "      <td>48</td>\n",
              "    </tr>\n",
              "    <tr>\n",
              "      <th>2</th>\n",
              "      <td>Ford</td>\n",
              "      <td>Puma</td>\n",
              "      <td>22500</td>\n",
              "      <td>71</td>\n",
              "    </tr>\n",
              "    <tr>\n",
              "      <th>3</th>\n",
              "      <td>Vauxhall</td>\n",
              "      <td>Corsa</td>\n",
              "      <td>11995</td>\n",
              "      <td>74</td>\n",
              "    </tr>\n",
              "    <tr>\n",
              "      <th>4</th>\n",
              "      <td>Toyota</td>\n",
              "      <td>Corolla</td>\n",
              "      <td>22075</td>\n",
              "      <td>84</td>\n",
              "    </tr>\n",
              "    <tr>\n",
              "      <th>5</th>\n",
              "      <td>Mercedes</td>\n",
              "      <td>S Class</td>\n",
              "      <td>49948</td>\n",
              "      <td>81</td>\n",
              "    </tr>\n",
              "  </tbody>\n",
              "</table>\n",
              "</div>"
            ],
            "text/plain": [
              "       make    model  price  rating\n",
              "0      Audi       A1  12500      62\n",
              "1      Ford   Fiesta  12000      48\n",
              "2      Ford     Puma  22500      71\n",
              "3  Vauxhall    Corsa  11995      74\n",
              "4    Toyota  Corolla  22075      84\n",
              "5  Mercedes  S Class  49948      81"
            ]
          },
          "metadata": {},
          "execution_count": 22
        }
      ]
    },
    {
      "cell_type": "markdown",
      "metadata": {
        "id": "dYEtNmpVzCeo"
      },
      "source": [
        "However, when you look at the dataframe, it's not obvious that the values in the `approval_rating` column are percentages, is it? \n",
        "\n",
        "Make this clearer by displaying these values with a '%' symbol e.g. 62%.\n",
        "\n",
        "The format string you will need to do this is `'{:,.0f}%'` (remember to include the single quotes).\n",
        "\n",
        "**Step 1**\n",
        "\n",
        "Create a format dictionary like the one we created [here](#format-dictionary).\n",
        "\n",
        "Call it `percentage_formatter`.\n"
      ]
    },
    {
      "cell_type": "code",
      "metadata": {
        "id": "VKROeMx-xu_W"
      },
      "source": [
        "# write your code here to create the format dictionary here\n"
      ],
      "execution_count": 23,
      "outputs": []
    },
    {
      "cell_type": "markdown",
      "metadata": {
        "id": "ioh90W7jx0Vp"
      },
      "source": [
        "##### Hint"
      ]
    },
    {
      "cell_type": "code",
      "metadata": {
        "cellView": "form",
        "id": "gMW-kCIFx44Z"
      },
      "source": [
        "#@title\n",
        "# What is the name of the column you want to format?"
      ],
      "execution_count": 24,
      "outputs": []
    },
    {
      "cell_type": "markdown",
      "metadata": {
        "id": "bVTjg6jKwl8c"
      },
      "source": [
        "**Step 2**\n",
        "\n",
        "Use the format dictionary to format the column for the approval rating."
      ]
    },
    {
      "cell_type": "markdown",
      "metadata": {
        "id": "G1Sqpa64zWUq"
      },
      "source": [
        "##### Hint 1"
      ]
    },
    {
      "cell_type": "code",
      "metadata": {
        "cellView": "form",
        "id": "n4uANRkxdxC1"
      },
      "source": [
        "#@title\n",
        "# your format dictionary should look like this\n",
        "\n",
        "percentage_formatter = {\n",
        "    'approval_rating': '{:,.0f}%'\n",
        "}"
      ],
      "execution_count": 25,
      "outputs": []
    },
    {
      "cell_type": "markdown",
      "metadata": {
        "id": "wc8k5i_6ziX0"
      },
      "source": [
        "##### Hint 2"
      ]
    },
    {
      "cell_type": "code",
      "metadata": {
        "cellView": "form",
        "id": "bYLkDu_6fazu"
      },
      "source": [
        "#@title\n",
        "# pass your format dictionary to the used_cars.style.format() dictionary"
      ],
      "execution_count": 26,
      "outputs": []
    },
    {
      "cell_type": "code",
      "metadata": {
        "id": "rNFmgUgAf5mo"
      },
      "source": [
        "# write your code here to format the column for the approval rating with a % symbol.\n"
      ],
      "execution_count": 27,
      "outputs": []
    },
    {
      "cell_type": "markdown",
      "metadata": {
        "id": "8UjwmCwa8o9H"
      },
      "source": [
        "#### Task 2\n",
        "\n",
        "Try reformatting the values in a column yourself. In the `used_cars` dataset, display the price of the car in £.\n",
        "\n",
        "The format dictionary that you will need to create is very similar to one we used for the `clothes` dataframe, described [here](#format-dictionary).\n",
        "\n",
        "The format string that you will need is the same as the one we used above to reformat the `price_£` column in the `clothes` dataframe: `'£{:,.2f}'` (remember to include the single quotes).\n",
        "\n",
        "If you need some help have a look at the hints below."
      ]
    },
    {
      "cell_type": "markdown",
      "metadata": {
        "id": "KqH7RtJv9DCt"
      },
      "source": [
        "##### Hints"
      ]
    },
    {
      "cell_type": "code",
      "metadata": {
        "id": "qp6hjuYV9FnN",
        "cellView": "form"
      },
      "source": [
        "#@title\n",
        "# which column do you need to reformat?\n"
      ],
      "execution_count": null,
      "outputs": []
    },
    {
      "cell_type": "code",
      "metadata": {
        "id": "BS6HVqbJ9XZ-",
        "cellView": "form"
      },
      "source": [
        "#@title\n",
        "# create a new format dictionary that is similar to \n",
        "# the pound_to_2_dp_formatter that we created above. \n",
        "# call it used_cars_pound_to_2_dp_formatter\n"
      ],
      "execution_count": 34,
      "outputs": []
    },
    {
      "cell_type": "code",
      "metadata": {
        "cellView": "form",
        "id": "ZxxH_lvFZx4Z"
      },
      "source": [
        "#@title\n",
        "# Use the format dictionary used_cars_pound_to_2_dp_formatter to format the column for the price."
      ],
      "execution_count": null,
      "outputs": []
    },
    {
      "cell_type": "code",
      "metadata": {
        "id": "Sj-yGXtb8rg4"
      },
      "source": [
        "# Write your code here\n"
      ],
      "execution_count": 21,
      "outputs": []
    },
    {
      "cell_type": "markdown",
      "metadata": {
        "id": "-IKpNdzn1Q-p"
      },
      "source": [
        "#### Extension Task\n",
        "\n",
        "In the `lochs` dataframe the `volume` column holds the volume of water in each of the lochs (in $m^{3}$).\n",
        "\n",
        "Run the next cell to have a look. "
      ]
    },
    {
      "cell_type": "code",
      "metadata": {
        "id": "v0Mxq_r62OXs",
        "colab": {
          "base_uri": "https://localhost:8080/",
          "height": 204
        },
        "outputId": "9341e633-b136-4110-8a46-0c851acc8c5d"
      },
      "source": [
        "lochs"
      ],
      "execution_count": 28,
      "outputs": [
        {
          "output_type": "execute_result",
          "data": {
            "text/html": [
              "<div>\n",
              "<style scoped>\n",
              "    .dataframe tbody tr th:only-of-type {\n",
              "        vertical-align: middle;\n",
              "    }\n",
              "\n",
              "    .dataframe tbody tr th {\n",
              "        vertical-align: top;\n",
              "    }\n",
              "\n",
              "    .dataframe thead th {\n",
              "        text-align: right;\n",
              "    }\n",
              "</style>\n",
              "<table border=\"1\" class=\"dataframe\">\n",
              "  <thead>\n",
              "    <tr style=\"text-align: right;\">\n",
              "      <th></th>\n",
              "      <th>loch</th>\n",
              "      <th>volume</th>\n",
              "      <th>length</th>\n",
              "      <th>max_depth</th>\n",
              "    </tr>\n",
              "  </thead>\n",
              "  <tbody>\n",
              "    <tr>\n",
              "      <th>0</th>\n",
              "      <td>Loch Ness</td>\n",
              "      <td>7.45280</td>\n",
              "      <td>36.2</td>\n",
              "      <td>227</td>\n",
              "    </tr>\n",
              "    <tr>\n",
              "      <th>1</th>\n",
              "      <td>Loch Lomond</td>\n",
              "      <td>2.61826</td>\n",
              "      <td>36.0</td>\n",
              "      <td>190</td>\n",
              "    </tr>\n",
              "    <tr>\n",
              "      <th>2</th>\n",
              "      <td>Loch Morar</td>\n",
              "      <td>2.38560</td>\n",
              "      <td>18.8</td>\n",
              "      <td>310</td>\n",
              "    </tr>\n",
              "    <tr>\n",
              "      <th>3</th>\n",
              "      <td>Loch Tay</td>\n",
              "      <td>1.67854</td>\n",
              "      <td>23.0</td>\n",
              "      <td>150</td>\n",
              "    </tr>\n",
              "    <tr>\n",
              "      <th>4</th>\n",
              "      <td>Loch Awe</td>\n",
              "      <td>1.20076</td>\n",
              "      <td>41.0</td>\n",
              "      <td>94</td>\n",
              "    </tr>\n",
              "  </tbody>\n",
              "</table>\n",
              "</div>"
            ],
            "text/plain": [
              "          loch   volume  length  max_depth\n",
              "0    Loch Ness  7.45280    36.2        227\n",
              "1  Loch Lomond  2.61826    36.0        190\n",
              "2   Loch Morar  2.38560    18.8        310\n",
              "3     Loch Tay  1.67854    23.0        150\n",
              "4     Loch Awe  1.20076    41.0         94"
            ]
          },
          "metadata": {},
          "execution_count": 28
        }
      ]
    },
    {
      "cell_type": "markdown",
      "metadata": {
        "id": "hwUzE8nr2iKf"
      },
      "source": [
        "As you can see, the `volume` measurements are accurate to 5 decimal places. That's very accurate, and great for scientific research, but you'd like to share your results with the members of a stand up paddle board club, who might just get a bit confused by such large numbers. \n",
        "\n",
        "You decide to display the volume of each loch as accurate to 1 decimal place. \n",
        "\n",
        "The format string you will need for this is `'{:.1f}'` (remember to include the single quotes). "
      ]
    },
    {
      "cell_type": "code",
      "metadata": {
        "id": "LOTBoyPC3-eg"
      },
      "source": [
        "# write your code here\n"
      ],
      "execution_count": 29,
      "outputs": []
    },
    {
      "cell_type": "markdown",
      "metadata": {
        "id": "mFTaTOsl46Qp"
      },
      "source": [
        "(Did you notice that the `format()` function also takes care of *rounding* too?)"
      ]
    }
  ]
}